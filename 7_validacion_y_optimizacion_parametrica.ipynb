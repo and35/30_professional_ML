{
 "cells": [
  {
   "cell_type": "code",
   "execution_count": 7,
   "metadata": {},
   "outputs": [],
   "source": [
    "import pandas as pd\n",
    "import numpy as np\n",
    "\n",
    "from sklearn.tree import DecisionTreeRegressor\n",
    "\n",
    "from sklearn.model_selection import (cross_val_score, KFold)\n",
    "from sklearn.metrics import mean_squared_error\n"
   ]
  },
  {
   "cell_type": "code",
   "execution_count": 3,
   "metadata": {},
   "outputs": [],
   "source": [
    "dataset = pd.read_csv('./datasets/felicidad.csv')\n",
    "\n",
    "#X = dataset.drop(['country', 'score'], axis=1)\n",
    "#y = dataset['score']\n",
    "\n",
    "X = dataset.drop([\"country\",\"score\"],axis=1)\n",
    "y = dataset[\"score\"]"
   ]
  },
  {
   "cell_type": "markdown",
   "metadata": {},
   "source": [
    "## validacion cruzada basica "
   ]
  },
  {
   "cell_type": "code",
   "execution_count": 4,
   "metadata": {},
   "outputs": [
    {
     "name": "stdout",
     "output_type": "stream",
     "text": [
      "Los tres MSE fueron:  [-0.84377295 -0.15841133 -0.68847991]\n",
      "================================\n",
      "El MSE promedio fue:  0.5635547298996498\n"
     ]
    }
   ],
   "source": [
    "# seleccion de modelo\n",
    "model = DecisionTreeRegressor()\n",
    "\n",
    "# Implementacion básica de Cross validation para calcular un score\n",
    "score = cross_val_score(model, X, y,\n",
    "                        cv=3, # se define el numero de split \n",
    "                        scoring='neg_mean_squared_error') # la metrica de validacion \n",
    "\n",
    "# Cada elemento del array score es el error medio cuadratico\n",
    "print(\"Los tres MSE fueron: \", score) #estos son errores medios cuadraticos de cada split\n",
    "print('='*32)\n",
    "print(\"El MSE promedio fue: \", np.abs(np.mean(score))) # se recomienda presentar esta metrica asi "
   ]
  },
  {
   "cell_type": "markdown",
   "metadata": {},
   "source": [
    "# validacion cruzada avanzada\n",
    "Se hizo una implementacion mas sofisticada de CV que se llama K Fold Cross validation para calcular separar los datos en sus respectivos dataset y poder entrenar a nuestro modelo manualmente.\n",
    "\n",
    "es lo mismo de atras solo que en esta version podemos manipular mas parametros"
   ]
  },
  {
   "cell_type": "code",
   "execution_count": 13,
   "metadata": {},
   "outputs": [
    {
     "name": "stdout",
     "output_type": "stream",
     "text": [
      "Los tres MSE fueron:  [0.008245999424145068, 0.012547118703889398, 0.006206374979006815]\n",
      "El MSE promedio fue:  0.008999831035680425\n"
     ]
    }
   ],
   "source": [
    "# creamos una funcion para crear X y y\n",
    "def X_y(ds):\n",
    "    X = ds.drop([\"country\",\"score\"],axis=1)\n",
    "    y = ds[\"score\"]\n",
    "    return X, y\n",
    "\n",
    "kf = KFold(n_splits=3, shuffle=True, random_state=42)\n",
    "\n",
    "mse_values = []\n",
    "for train, test in kf.split(X):# train y test contienen los indices de las particiones\n",
    "    #hacemos el split manuelmente (simulando train_test_split, pero con las particiones de CV)\n",
    "    X_train, y_train = X_y(dataset.loc[train,:]) \n",
    "    X_test, y_test = X_y(dataset.loc[test,:])\n",
    "\n",
    "    model = DecisionTreeRegressor(random_state=42).fit(X_train,y_train)\n",
    "    predict = model.predict(X_test)\n",
    "    mse_values.append(mean_squared_error(y_test,predict))\n",
    "\n",
    "print(\"Los tres MSE fueron: \",mse_values)\n",
    "print(\"El MSE promedio fue: \", np.mean(mse_values))"
   ]
  },
  {
   "cell_type": "markdown",
   "metadata": {},
   "source": [
    "# optimizacion parametrica"
   ]
  },
  {
   "cell_type": "code",
   "execution_count": 19,
   "metadata": {},
   "outputs": [],
   "source": [
    "import pandas as pd\n",
    "\n",
    "from sklearn.model_selection import RandomizedSearchCV\n",
    "from sklearn.ensemble import RandomForestRegressor\n",
    "\n",
    "import warnings\n",
    "warnings.filterwarnings(\"ignore\")\n",
    "import matplotlib.pyplot as plt"
   ]
  },
  {
   "cell_type": "markdown",
   "metadata": {},
   "source": [
    "## randomized "
   ]
  },
  {
   "cell_type": "code",
   "execution_count": 16,
   "metadata": {},
   "outputs": [],
   "source": [
    "dataset = pd.read_csv(\"./datasets/felicidad.csv\")\n",
    "\n",
    "# La razón de eliminar el rank y el score, \n",
    "# es porque se quiere que los features no tengan ninguna correlación entre ellos.\n",
    "# Lo ideal es que exista correlación solo entre las features y la variable objetivo.\n",
    "X = dataset.drop(['country', 'rank', 'score'], axis=1)\n",
    "y = dataset[['score']]"
   ]
  },
  {
   "cell_type": "code",
   "execution_count": 17,
   "metadata": {},
   "outputs": [],
   "source": [
    "reg = RandomForestRegressor()\n",
    "\n",
    "parameters = {\n",
    "    'n_estimators': range(4, 16), # cuantos arboles compondran mi arbol\n",
    "    'criterion': ['mse', 'mae'], # funcion de coste usada\n",
    "    'max_depth': range(2, 11)   # profundidad del arbol \n",
    "}\n",
    "\n",
    "# son 10 iteracion del optimizador. Toma 10 combinaciones al azar del diccionario\n",
    "# cv = 3, parte en 3 parte el set de datos que le pasemos, para hacer Cross validation\n",
    "rand_est = RandomizedSearchCV(reg, parameters, \n",
    "                                n_iter=10, \n",
    "                                cv=3, \n",
    "                                scoring='neg_mean_absolute_error',\n",
    "                                ).fit(X, y)"
   ]
  },
  {
   "cell_type": "code",
   "execution_count": 18,
   "metadata": {},
   "outputs": [
    {
     "name": "stdout",
     "output_type": "stream",
     "text": [
      "Mejores estimadores\n",
      "RandomForestRegressor(criterion='mae', max_depth=9, n_estimators=4)\n",
      "================================================================\n",
      "Mejores parametros\n",
      "{'n_estimators': 4, 'max_depth': 9, 'criterion': 'mae'}\n",
      "================================================================\n",
      "Predict: 7.52625012375\n",
      "Real:    score    7.537\n",
      "Name: 0, dtype: float64\n"
     ]
    }
   ],
   "source": [
    "print(\"Mejores estimadores\")\n",
    "print(rand_est.best_estimator_)\n",
    "print('='*64)\n",
    "\n",
    "print(\"Mejores parametros\")\n",
    "print(rand_est.best_params_)\n",
    "print('='*64)\n",
    "\n",
    "y_hat = rand_est.predict(X.loc[[0]]) \n",
    "print(f'Predict: {y_hat[0]}')\n",
    "print(f'Real:    {y.loc[0]}')\n"
   ]
  },
  {
   "cell_type": "markdown",
   "metadata": {},
   "source": [
    "## plot grid results"
   ]
  },
  {
   "cell_type": "code",
   "execution_count": 82,
   "metadata": {},
   "outputs": [
    {
     "data": {
      "text/html": [
       "<div>\n",
       "<style scoped>\n",
       "    .dataframe tbody tr th:only-of-type {\n",
       "        vertical-align: middle;\n",
       "    }\n",
       "\n",
       "    .dataframe tbody tr th {\n",
       "        vertical-align: top;\n",
       "    }\n",
       "\n",
       "    .dataframe thead th {\n",
       "        text-align: right;\n",
       "    }\n",
       "</style>\n",
       "<table border=\"1\" class=\"dataframe\">\n",
       "  <thead>\n",
       "    <tr style=\"text-align: right;\">\n",
       "      <th></th>\n",
       "      <th>n_estimators</th>\n",
       "      <th>max_depth</th>\n",
       "      <th>criterion</th>\n",
       "      <th>means_test</th>\n",
       "      <th>stds_test</th>\n",
       "    </tr>\n",
       "  </thead>\n",
       "  <tbody>\n",
       "    <tr>\n",
       "      <th>0</th>\n",
       "      <td>7</td>\n",
       "      <td>3</td>\n",
       "      <td>mae</td>\n",
       "      <td>0.683356</td>\n",
       "      <td>0.209391</td>\n",
       "    </tr>\n",
       "    <tr>\n",
       "      <th>1</th>\n",
       "      <td>9</td>\n",
       "      <td>6</td>\n",
       "      <td>mse</td>\n",
       "      <td>0.635646</td>\n",
       "      <td>0.233242</td>\n",
       "    </tr>\n",
       "    <tr>\n",
       "      <th>2</th>\n",
       "      <td>4</td>\n",
       "      <td>9</td>\n",
       "      <td>mae</td>\n",
       "      <td>0.618775</td>\n",
       "      <td>0.209737</td>\n",
       "    </tr>\n",
       "  </tbody>\n",
       "</table>\n",
       "</div>"
      ],
      "text/plain": [
       "   n_estimators  max_depth criterion  means_test  stds_test\n",
       "0             7          3       mae    0.683356   0.209391\n",
       "1             9          6       mse    0.635646   0.233242\n",
       "2             4          9       mae    0.618775   0.209737"
      ]
     },
     "execution_count": 82,
     "metadata": {},
     "output_type": "execute_result"
    }
   ],
   "source": [
    "# juntamos los datos en un dataframe\n",
    "def data_results(grid):\n",
    "    results = grid.cv_results_\n",
    "    masks_names= list(grid.best_params_.keys())\n",
    "    params = results[\"params\"]\n",
    "    p_v = {}\n",
    "    for p in masks_names:\n",
    "        x_li =[]\n",
    "        for it in params:\n",
    "            x_li.append(it[p])\n",
    "        p_v[p] = x_li\n",
    "    data = pd.DataFrame(p_v)\n",
    "    data[\"means_test\"] = np.abs(results['mean_test_score'])\n",
    "    data[\"stds_test\"] = results['std_test_score']\n",
    "    return data\n",
    "data_results(rand_est).head(3)"
   ]
  },
  {
   "cell_type": "code",
   "execution_count": 81,
   "metadata": {},
   "outputs": [
    {
     "data": {
      "image/png": "[encoded data removed]",
      "text/plain": [
       "<Figure size 431.625x360 with 1 Axes>"
      ]
     },
     "metadata": {
      "needs_background": "light"
     },
     "output_type": "display_data"
    }
   ],
   "source": [
    "import seaborn as sns\n",
    "markers = {\"mae\": \">\", \"mse\":\"o\"}\n",
    "sns.relplot(data = data_results(rand_est), x=\"n_estimators\", y = \"means_test\", #hasta aqui tendriamos una scatter plot normal pero podemos mas...\n",
    "                hue=\"max_depth\",\n",
    "                style=\"criterion\",markers= markers, alpha=1,\n",
    "                size=\"stds_test\"\n",
    "            )\n",
    "plt.show()"
   ]
  },
  {
   "cell_type": "code",
   "execution_count": 75,
   "metadata": {},
   "outputs": [
    {
     "data": {
      "image/png": "[encoded data removed]",
      "text/plain": [
       "<Figure size 1440x360 with 3 Axes>"
      ]
     },
     "metadata": {
      "needs_background": "light"
     },
     "output_type": "display_data"
    }
   ],
   "source": [
    "def plot_search_results(grid):\n",
    "    results = grid.cv_results_\n",
    "    means_test = results['mean_test_score']\n",
    "    stds_test = results['std_test_score']    \n",
    "\n",
    "    ## Ploting results\n",
    "    fig, ax = plt.subplots(1,len(grid.best_params_),sharex='none', sharey='all',figsize=(20,5))\n",
    "    fig.suptitle('Score per parameter')\n",
    "    fig.text(0.04, 0.5, 'MEAN SCORE', va='center', rotation='vertical')\n",
    "    \n",
    "    masks_names= list(grid.best_params_.keys())\n",
    "    params = results[\"params\"]\n",
    "    for i, p in enumerate(masks_names):\n",
    "        x_li =[]\n",
    "\n",
    "        for it in params:\n",
    "            x_li.append(it[p])\n",
    "        x = np.array(x_li)\n",
    "        y_1 = np.array(means_test)\n",
    "        e_1 = np.array(stds_test)\n",
    "        ax[i].errorbar(x, y_1, e_1, linestyle='--', marker='o', label='test')\n",
    "        ax[i].set_xlabel(p.upper())\n",
    "\n",
    "    plt.legend()\n",
    "    plt.show()\n",
    "plot_search_results(rand_est)"
   ]
  }
 ],
 "metadata": {
  "kernelspec": {
   "display_name": "Python 3.9.12 ('base')",
   "language": "python",
   "name": "python3"
  },
  "language_info": {
   "codemirror_mode": {
    "name": "ipython",
    "version": 3
   },
   "file_extension": ".py",
   "mimetype": "text/x-python",
   "name": "python",
   "nbconvert_exporter": "python",
   "pygments_lexer": "ipython3",
   "version": "3.9.12"
  },
  "orig_nbformat": 4,
  "vscode": {
   "interpreter": {
    "hash": "89700b826ea957244dd80a5eea6853c4d4fde16e09f6b962977bd16c6aae5fc9"
   }
  }
 },
 "nbformat": 4,
 "nbformat_minor": 2
}
