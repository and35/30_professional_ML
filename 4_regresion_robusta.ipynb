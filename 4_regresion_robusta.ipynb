{
 "cells": [
  {
   "cell_type": "code",
   "execution_count": 1,
   "metadata": {},
   "outputs": [],
   "source": [
    "from math import gamma\n",
    "import pandas as pd\n",
    "from scipy.sparse.construct import random\n",
    "\n",
    "from sklearn.linear_model import (\n",
    "    RANSACRegressor, HuberRegressor\n",
    ")\n",
    "from sklearn.svm import SVR\n",
    "\n",
    "from sklearn.model_selection import train_test_split\n",
    "from sklearn.metrics import mean_squared_error\n",
    "\n",
    "import matplotlib.pyplot as plt\n",
    "\n",
    "# Para eliminar algunos warnings. Si los queremos ver comentamos estas lineas.\n",
    "import warnings\n",
    "warnings.simplefilter(\"ignore\")"
   ]
  },
  {
   "cell_type": "markdown",
   "metadata": {},
   "source": [
    "## carga de datos "
   ]
  },
  {
   "cell_type": "code",
   "execution_count": null,
   "metadata": {},
   "outputs": [],
   "source": [
    "dataset = pd.read_csv('./datasets/felicidad_corrupt.csv')\n",
    "    \n",
    "X = dataset.drop(['country', 'score'], axis=1)\n",
    "y = dataset[['score']]\n",
    "\n",
    "X_train, X_test, y_train, y_test = train_test_split(X, y,\n",
    "                                                    test_size=0.3,\n",
    "                                                    random_state=42)"
   ]
  },
  {
   "cell_type": "code",
   "execution_count": null,
   "metadata": {},
   "outputs": [],
   "source": [
    "estimadores = {\n",
    "    'SVR': SVR(gamma='auto', C=1.0, epsilon=0.1),\n",
    "    'RANSAC': RANSACRegressor(), # Meta estimador\n",
    "    'HUBER': HuberRegressor(epsilon=1.35)\n",
    "}\n"
   ]
  },
  {
   "cell_type": "code",
   "execution_count": null,
   "metadata": {},
   "outputs": [],
   "source": [
    "for name, estimador in estimadores.items():\n",
    "    # Entrenamos\n",
    "    estimador.fit(X_train, y_train)\n",
    "    # Predecimos\n",
    "    predictions = estimador.predict(X_test)\n",
    "    # Medimos\n",
    "    print('='*64)\n",
    "    print(name)\n",
    "    meanSquaredError = mean_squared_error(y_test, predictions)\n",
    "    print('MSE: ', meanSquaredError)\n",
    "\n",
    "    # Graficamos\n",
    "    plt.ylabel('Predicted Score')\n",
    "    plt.xlabel('Real Score')\n",
    "    plt.title(f'Predicted VS Real - {name}')\n",
    "    plt.scatter(y_test, predictions, label=f'{name}. MSE: {meanSquaredError}')\n",
    "    plt.plot(predictions, predictions, 'r--')\n",
    "    plt.legend()\n",
    "    plt.show()"
   ]
  }
 ],
 "metadata": {
  "kernelspec": {
   "display_name": "Python 3.9.12 ('base')",
   "language": "python",
   "name": "python3"
  },
  "language_info": {
   "codemirror_mode": {
    "name": "ipython",
    "version": 3
   },
   "file_extension": ".py",
   "mimetype": "text/x-python",
   "name": "python",
   "nbconvert_exporter": "python",
   "pygments_lexer": "ipython3",
   "version": "3.9.12"
  },
  "orig_nbformat": 4,
  "vscode": {
   "interpreter": {
    "hash": "89700b826ea957244dd80a5eea6853c4d4fde16e09f6b962977bd16c6aae5fc9"
   }
  }
 },
 "nbformat": 4,
 "nbformat_minor": 2
}
