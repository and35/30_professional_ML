{
 "cells": [
  {
   "cell_type": "code",
   "execution_count": 19,
   "metadata": {},
   "outputs": [],
   "source": [
    "import pandas as pd\n",
    "import sklearn\n",
    "\n",
    "from sklearn.linear_model import LinearRegression\n",
    "from sklearn.linear_model import Lasso\n",
    "from sklearn.linear_model import Ridge\n",
    "\n",
    "from sklearn.model_selection import train_test_split\n",
    "from sklearn.metrics import mean_squared_error\n",
    "\n",
    "import seaborn as sns\n",
    "import matplotlib.pyplot as plt\n",
    "import numpy as np"
   ]
  },
  {
   "cell_type": "markdown",
   "metadata": {},
   "source": [
    "## 1 cargamos datos y hacemos el split"
   ]
  },
  {
   "cell_type": "code",
   "execution_count": 2,
   "metadata": {},
   "outputs": [
    {
     "name": "stdout",
     "output_type": "stream",
     "text": [
      "             rank       score        high         low         gdp      family  \\\n",
      "count  155.000000  155.000000  155.000000  155.000000  155.000000  155.000000   \n",
      "mean    78.000000    5.354019    5.452326    5.255713    0.984718    1.188898   \n",
      "std     44.888751    1.131230    1.118542    1.145030    0.420793    0.287263   \n",
      "min      1.000000    2.693000    2.864884    2.521116    0.000000    0.000000   \n",
      "25%     39.500000    4.505500    4.608172    4.374955    0.663371    1.042635   \n",
      "50%     78.000000    5.279000    5.370032    5.193152    1.064578    1.253918   \n",
      "75%    116.500000    6.101500    6.194600    6.006527    1.318027    1.414316   \n",
      "max    155.000000    7.537000    7.622030    7.479556    1.870766    1.610574   \n",
      "\n",
      "           lifexp     freedom  generosity  corruption    dystopia  \n",
      "count  155.000000  155.000000  155.000000  155.000000  155.000000  \n",
      "mean     0.551341    0.408786    0.246883    0.123120    1.850238  \n",
      "std      0.237073    0.149997    0.134780    0.101661    0.500028  \n",
      "min      0.000000    0.000000    0.000000    0.000000    0.377914  \n",
      "25%      0.369866    0.303677    0.154106    0.057271    1.591291  \n",
      "50%      0.606042    0.437454    0.231538    0.089848    1.832910  \n",
      "75%      0.723008    0.516561    0.323762    0.153296    2.144654  \n",
      "max      0.949492    0.658249    0.838075    0.464308    3.117485  \n"
     ]
    }
   ],
   "source": [
    "dataset = pd.read_csv('./datasets/whr2017.csv')\n",
    "print(dataset.describe())"
   ]
  },
  {
   "cell_type": "code",
   "execution_count": 6,
   "metadata": {},
   "outputs": [
    {
     "name": "stdout",
     "output_type": "stream",
     "text": [
      "(155, 7) (155, 1)\n"
     ]
    }
   ],
   "source": [
    "# creamos variables x y y\n",
    "X = dataset[['gdp', 'family', 'lifexp', 'freedom',\n",
    "        'corruption', 'generosity', 'dystopia']]\n",
    "y = dataset[['score']]\n",
    "\n",
    "print(X.shape, y.shape)"
   ]
  },
  {
   "cell_type": "code",
   "execution_count": 7,
   "metadata": {},
   "outputs": [],
   "source": [
    "X_train, X_test, y_train, y_test = train_test_split(X,\n",
    "                                                    y,\n",
    "                                                    test_size=0.25)"
   ]
  },
  {
   "cell_type": "markdown",
   "metadata": {},
   "source": [
    "## 2 entrenamos los modelos de regresion lineal\n",
    "LinearRegression, Lasso y Ridge son algoritmos de regresion lineal, en el fondo son una formula matematica, a diferencia de LinearRegression,  Lasso y Ridge para evitar el overfitting, se aumenta el sesgo al aplicar una ponderacion a las features mas importantes.   \n",
    "por tal motivo entrenaremos cada modelo con el mismo set de datos para ver como se desempeña cada uno. "
   ]
  },
  {
   "cell_type": "code",
   "execution_count": 56,
   "metadata": {},
   "outputs": [],
   "source": [
    "# Aquí definimos nuestros regresores uno por 1 y llamamos el fit o ajuste \n",
    "modelLinear = LinearRegression().fit(X_train, y_train)\n",
    "y_predict_linear = modelLinear.predict(X_test)\n",
    "\n",
    "# Alpha, que es valor labda y entre mas valor tenga alpha mas penalizacion a la variable dara \n",
    "# Lasso\n",
    "modelLasso = Lasso(alpha=0.02).fit(X_train, y_train)\n",
    "y_predict_lasso = modelLasso.predict(X_test)\n",
    "\n",
    "# Ridge\n",
    "modelRidge = Ridge(alpha=1).fit(X_train, y_train)\n",
    "y_predict_ridge = modelRidge.predict(X_test)"
   ]
  },
  {
   "cell_type": "markdown",
   "metadata": {},
   "source": [
    "## 3 evaluacion del modelo \n",
    "usaremos el error cuadratico medio (MSE) para evaluar que tan bien predice cada modelo."
   ]
  },
  {
   "cell_type": "code",
   "execution_count": 58,
   "metadata": {},
   "outputs": [
    {
     "name": "stdout",
     "output_type": "stream",
     "text": [
      "Linear loss: 0.0000001028\n",
      "Lasso Loss: 0.0723252212\n",
      "Ridge loss: 0.0070235725\n"
     ]
    }
   ],
   "source": [
    "linear_loss = mean_squared_error(y_test, y_predict_linear)\n",
    "#Loss lineal \n",
    "print(\"Linear loss: %.10f\" % float(linear_loss))\n",
    "# Loss Lasso\n",
    "lasso_loss = mean_squared_error(y_test, y_predict_lasso)\n",
    "print(\"Lasso Loss: %.10f\" % float(lasso_loss))\n",
    "# Loss Ridge\n",
    "ridge_loss = mean_squared_error(y_test, y_predict_ridge)\n",
    "print(\"Ridge loss: %.10f\" % float(ridge_loss))"
   ]
  },
  {
   "cell_type": "markdown",
   "metadata": {},
   "source": [
    "podemos ver que el modelo con mejores resultados para estos datos es LinearRegression()"
   ]
  },
  {
   "cell_type": "markdown",
   "metadata": {},
   "source": [
    "## coeficientes de ponderacion \n",
    "algo importante que nos regresan estos modelos son los coeficientes de ponderacion, los cuales son vectores con un valor correspondiente a  cada columna(feature) de nuestro dataset.\n",
    "entre mas alto sea el valor del coeficiente mas importancia esa feature aporto al modelo. \n"
   ]
  },
  {
   "cell_type": "code",
   "execution_count": 59,
   "metadata": {},
   "outputs": [
    {
     "name": "stdout",
     "output_type": "stream",
     "text": [
      "Coef LASSO\n",
      "[1.41909837 0.90129388 0.31267336 0.76453761 0.         0.06364152\n",
      " 0.88535439]\n",
      "================================\n",
      "Coef RIDGE\n",
      "[[1.10343263 0.96477217 0.83058961 0.88410941 0.65268328 0.7262513\n",
      "  0.95797724]]\n"
     ]
    }
   ],
   "source": [
    "print('Coef LASSO')\n",
    "print(modelLasso.coef_)\n",
    "print('='*32)\n",
    "print('Coef RIDGE')\n",
    "print(modelRidge.coef_)"
   ]
  },
  {
   "cell_type": "markdown",
   "metadata": {},
   "source": [
    "vemos como en LASSO hay coeficientes = 0 \n",
    "para simplicficar la comparacion por columnas crearemos un dataframe con los datos resultantes"
   ]
  },
  {
   "cell_type": "code",
   "execution_count": 60,
   "metadata": {},
   "outputs": [
    {
     "data": {
      "text/html": [
       "<div>\n",
       "<style scoped>\n",
       "    .dataframe tbody tr th:only-of-type {\n",
       "        vertical-align: middle;\n",
       "    }\n",
       "\n",
       "    .dataframe tbody tr th {\n",
       "        vertical-align: top;\n",
       "    }\n",
       "\n",
       "    .dataframe thead th {\n",
       "        text-align: right;\n",
       "    }\n",
       "</style>\n",
       "<table border=\"1\" class=\"dataframe\">\n",
       "  <thead>\n",
       "    <tr style=\"text-align: right;\">\n",
       "      <th></th>\n",
       "      <th>modelRidge</th>\n",
       "      <th>modelLasso</th>\n",
       "    </tr>\n",
       "  </thead>\n",
       "  <tbody>\n",
       "    <tr>\n",
       "      <th>gdp</th>\n",
       "      <td>1.103433</td>\n",
       "      <td>1.419098</td>\n",
       "    </tr>\n",
       "    <tr>\n",
       "      <th>family</th>\n",
       "      <td>0.964772</td>\n",
       "      <td>0.901294</td>\n",
       "    </tr>\n",
       "    <tr>\n",
       "      <th>lifexp</th>\n",
       "      <td>0.830590</td>\n",
       "      <td>0.312673</td>\n",
       "    </tr>\n",
       "    <tr>\n",
       "      <th>freedom</th>\n",
       "      <td>0.884109</td>\n",
       "      <td>0.764538</td>\n",
       "    </tr>\n",
       "    <tr>\n",
       "      <th>corruption</th>\n",
       "      <td>0.652683</td>\n",
       "      <td>0.000000</td>\n",
       "    </tr>\n",
       "    <tr>\n",
       "      <th>generosity</th>\n",
       "      <td>0.726251</td>\n",
       "      <td>0.063642</td>\n",
       "    </tr>\n",
       "    <tr>\n",
       "      <th>dystopia</th>\n",
       "      <td>0.957977</td>\n",
       "      <td>0.885354</td>\n",
       "    </tr>\n",
       "  </tbody>\n",
       "</table>\n",
       "</div>"
      ],
      "text/plain": [
       "            modelRidge  modelLasso\n",
       "gdp           1.103433    1.419098\n",
       "family        0.964772    0.901294\n",
       "lifexp        0.830590    0.312673\n",
       "freedom       0.884109    0.764538\n",
       "corruption    0.652683    0.000000\n",
       "generosity    0.726251    0.063642\n",
       "dystopia      0.957977    0.885354"
      ]
     },
     "execution_count": 60,
     "metadata": {},
     "output_type": "execute_result"
    }
   ],
   "source": [
    "coef = pd.DataFrame({\"modelRidge\": list(modelRidge.coef_[0]),\n",
    "\"modelLasso\": list(modelLasso.coef_)},\n",
    "index=['gdp', 'family', 'lifexp', 'freedom',\n",
    "        'corruption', 'generosity', 'dystopia'])\n",
    "coef"
   ]
  },
  {
   "cell_type": "markdown",
   "metadata": {},
   "source": [
    "## concluciones \n",
    "- el indice de ingresos tiene mayor peso que las otras variables, para calcular el indice de la felicidad\n",
    "- sorprendentemente vemos como el indice de corrupcion tiene poco impacto en en el inidce de la felicidad segun Ridge y Lasso"
   ]
  }
 ],
 "metadata": {
  "kernelspec": {
   "display_name": "Python 3.9.12 ('base')",
   "language": "python",
   "name": "python3"
  },
  "language_info": {
   "codemirror_mode": {
    "name": "ipython",
    "version": 3
   },
   "file_extension": ".py",
   "mimetype": "text/x-python",
   "name": "python",
   "nbconvert_exporter": "python",
   "pygments_lexer": "ipython3",
   "version": "3.9.12"
  },
  "orig_nbformat": 4,
  "vscode": {
   "interpreter": {
    "hash": "89700b826ea957244dd80a5eea6853c4d4fde16e09f6b962977bd16c6aae5fc9"
   }
  }
 },
 "nbformat": 4,
 "nbformat_minor": 2
}
