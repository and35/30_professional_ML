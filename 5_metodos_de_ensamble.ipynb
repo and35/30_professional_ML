{
 "cells": [
  {
   "cell_type": "markdown",
   "metadata": {},
   "source": [
    "# 1 bagging"
   ]
  },
  {
   "cell_type": "code",
   "execution_count": 7,
   "metadata": {},
   "outputs": [],
   "source": [
    "import pandas as pd\n",
    "\n",
    "from sklearn.neighbors import KNeighborsClassifier\n",
    "from sklearn.ensemble import BaggingClassifier\n",
    "\n",
    "from sklearn.svm import (LinearSVC, SVC)\n",
    "from sklearn.linear_model import SGDClassifier, LogisticRegression\n",
    "from sklearn.tree import DecisionTreeClassifier\n",
    "from sklearn.ensemble import RandomForestClassifier\n",
    "\n",
    "from sklearn.model_selection import train_test_split\n",
    "from sklearn.metrics import accuracy_score\n",
    "\n",
    "import warnings\n",
    "warnings.filterwarnings(\"ignore\")"
   ]
  },
  {
   "cell_type": "markdown",
   "metadata": {},
   "source": [
    "## data\n",
    "Utilizaremos un meta estimador que tiene Scikit Learn llamado Bagging Classifier. Al ser un meta estimador podemos adaptarlo a las diferentes familias de estimadores y Scikit Learn lo configurara de forma automática para que se convierta en un método de ensamble.\n",
    "\n",
    "Utilizaremos el dataset de afecciones cardiacas. Teniamos diferentes datos de pacientes, donde la meta finalmente era clasificarlos en si el paciente tenia o no una afección cardiaca."
   ]
  },
  {
   "cell_type": "code",
   "execution_count": 2,
   "metadata": {},
   "outputs": [
    {
     "data": {
      "text/html": [
       "<div>\n",
       "<style scoped>\n",
       "    .dataframe tbody tr th:only-of-type {\n",
       "        vertical-align: middle;\n",
       "    }\n",
       "\n",
       "    .dataframe tbody tr th {\n",
       "        vertical-align: top;\n",
       "    }\n",
       "\n",
       "    .dataframe thead th {\n",
       "        text-align: right;\n",
       "    }\n",
       "</style>\n",
       "<table border=\"1\" class=\"dataframe\">\n",
       "  <thead>\n",
       "    <tr style=\"text-align: right;\">\n",
       "      <th></th>\n",
       "      <th>age</th>\n",
       "      <th>sex</th>\n",
       "      <th>cp</th>\n",
       "      <th>trestbps</th>\n",
       "      <th>chol</th>\n",
       "      <th>fbs</th>\n",
       "      <th>restecg</th>\n",
       "      <th>thalach</th>\n",
       "      <th>exang</th>\n",
       "      <th>oldpeak</th>\n",
       "      <th>slope</th>\n",
       "      <th>ca</th>\n",
       "      <th>thal</th>\n",
       "      <th>target</th>\n",
       "    </tr>\n",
       "  </thead>\n",
       "  <tbody>\n",
       "    <tr>\n",
       "      <th>count</th>\n",
       "      <td>1025.000000</td>\n",
       "      <td>1025.000000</td>\n",
       "      <td>1025.000000</td>\n",
       "      <td>1025.000000</td>\n",
       "      <td>1025.00000</td>\n",
       "      <td>1025.000000</td>\n",
       "      <td>1025.000000</td>\n",
       "      <td>1025.000000</td>\n",
       "      <td>1025.000000</td>\n",
       "      <td>1025.000000</td>\n",
       "      <td>1025.000000</td>\n",
       "      <td>1025.000000</td>\n",
       "      <td>1025.000000</td>\n",
       "      <td>1025.000000</td>\n",
       "    </tr>\n",
       "    <tr>\n",
       "      <th>mean</th>\n",
       "      <td>54.434146</td>\n",
       "      <td>0.695610</td>\n",
       "      <td>0.942439</td>\n",
       "      <td>131.611707</td>\n",
       "      <td>246.00000</td>\n",
       "      <td>0.149268</td>\n",
       "      <td>0.529756</td>\n",
       "      <td>149.114146</td>\n",
       "      <td>0.336585</td>\n",
       "      <td>1.071512</td>\n",
       "      <td>1.385366</td>\n",
       "      <td>0.754146</td>\n",
       "      <td>2.323902</td>\n",
       "      <td>0.513171</td>\n",
       "    </tr>\n",
       "    <tr>\n",
       "      <th>std</th>\n",
       "      <td>9.072290</td>\n",
       "      <td>0.460373</td>\n",
       "      <td>1.029641</td>\n",
       "      <td>17.516718</td>\n",
       "      <td>51.59251</td>\n",
       "      <td>0.356527</td>\n",
       "      <td>0.527878</td>\n",
       "      <td>23.005724</td>\n",
       "      <td>0.472772</td>\n",
       "      <td>1.175053</td>\n",
       "      <td>0.617755</td>\n",
       "      <td>1.030798</td>\n",
       "      <td>0.620660</td>\n",
       "      <td>0.500070</td>\n",
       "    </tr>\n",
       "    <tr>\n",
       "      <th>min</th>\n",
       "      <td>29.000000</td>\n",
       "      <td>0.000000</td>\n",
       "      <td>0.000000</td>\n",
       "      <td>94.000000</td>\n",
       "      <td>126.00000</td>\n",
       "      <td>0.000000</td>\n",
       "      <td>0.000000</td>\n",
       "      <td>71.000000</td>\n",
       "      <td>0.000000</td>\n",
       "      <td>0.000000</td>\n",
       "      <td>0.000000</td>\n",
       "      <td>0.000000</td>\n",
       "      <td>0.000000</td>\n",
       "      <td>0.000000</td>\n",
       "    </tr>\n",
       "    <tr>\n",
       "      <th>25%</th>\n",
       "      <td>48.000000</td>\n",
       "      <td>0.000000</td>\n",
       "      <td>0.000000</td>\n",
       "      <td>120.000000</td>\n",
       "      <td>211.00000</td>\n",
       "      <td>0.000000</td>\n",
       "      <td>0.000000</td>\n",
       "      <td>132.000000</td>\n",
       "      <td>0.000000</td>\n",
       "      <td>0.000000</td>\n",
       "      <td>1.000000</td>\n",
       "      <td>0.000000</td>\n",
       "      <td>2.000000</td>\n",
       "      <td>0.000000</td>\n",
       "    </tr>\n",
       "    <tr>\n",
       "      <th>50%</th>\n",
       "      <td>56.000000</td>\n",
       "      <td>1.000000</td>\n",
       "      <td>1.000000</td>\n",
       "      <td>130.000000</td>\n",
       "      <td>240.00000</td>\n",
       "      <td>0.000000</td>\n",
       "      <td>1.000000</td>\n",
       "      <td>152.000000</td>\n",
       "      <td>0.000000</td>\n",
       "      <td>0.800000</td>\n",
       "      <td>1.000000</td>\n",
       "      <td>0.000000</td>\n",
       "      <td>2.000000</td>\n",
       "      <td>1.000000</td>\n",
       "    </tr>\n",
       "    <tr>\n",
       "      <th>75%</th>\n",
       "      <td>61.000000</td>\n",
       "      <td>1.000000</td>\n",
       "      <td>2.000000</td>\n",
       "      <td>140.000000</td>\n",
       "      <td>275.00000</td>\n",
       "      <td>0.000000</td>\n",
       "      <td>1.000000</td>\n",
       "      <td>166.000000</td>\n",
       "      <td>1.000000</td>\n",
       "      <td>1.800000</td>\n",
       "      <td>2.000000</td>\n",
       "      <td>1.000000</td>\n",
       "      <td>3.000000</td>\n",
       "      <td>1.000000</td>\n",
       "    </tr>\n",
       "    <tr>\n",
       "      <th>max</th>\n",
       "      <td>77.000000</td>\n",
       "      <td>1.000000</td>\n",
       "      <td>3.000000</td>\n",
       "      <td>200.000000</td>\n",
       "      <td>564.00000</td>\n",
       "      <td>1.000000</td>\n",
       "      <td>2.000000</td>\n",
       "      <td>202.000000</td>\n",
       "      <td>1.000000</td>\n",
       "      <td>6.200000</td>\n",
       "      <td>2.000000</td>\n",
       "      <td>4.000000</td>\n",
       "      <td>3.000000</td>\n",
       "      <td>1.000000</td>\n",
       "    </tr>\n",
       "  </tbody>\n",
       "</table>\n",
       "</div>"
      ],
      "text/plain": [
       "               age          sex           cp     trestbps        chol  \\\n",
       "count  1025.000000  1025.000000  1025.000000  1025.000000  1025.00000   \n",
       "mean     54.434146     0.695610     0.942439   131.611707   246.00000   \n",
       "std       9.072290     0.460373     1.029641    17.516718    51.59251   \n",
       "min      29.000000     0.000000     0.000000    94.000000   126.00000   \n",
       "25%      48.000000     0.000000     0.000000   120.000000   211.00000   \n",
       "50%      56.000000     1.000000     1.000000   130.000000   240.00000   \n",
       "75%      61.000000     1.000000     2.000000   140.000000   275.00000   \n",
       "max      77.000000     1.000000     3.000000   200.000000   564.00000   \n",
       "\n",
       "               fbs      restecg      thalach        exang      oldpeak  \\\n",
       "count  1025.000000  1025.000000  1025.000000  1025.000000  1025.000000   \n",
       "mean      0.149268     0.529756   149.114146     0.336585     1.071512   \n",
       "std       0.356527     0.527878    23.005724     0.472772     1.175053   \n",
       "min       0.000000     0.000000    71.000000     0.000000     0.000000   \n",
       "25%       0.000000     0.000000   132.000000     0.000000     0.000000   \n",
       "50%       0.000000     1.000000   152.000000     0.000000     0.800000   \n",
       "75%       0.000000     1.000000   166.000000     1.000000     1.800000   \n",
       "max       1.000000     2.000000   202.000000     1.000000     6.200000   \n",
       "\n",
       "             slope           ca         thal       target  \n",
       "count  1025.000000  1025.000000  1025.000000  1025.000000  \n",
       "mean      1.385366     0.754146     2.323902     0.513171  \n",
       "std       0.617755     1.030798     0.620660     0.500070  \n",
       "min       0.000000     0.000000     0.000000     0.000000  \n",
       "25%       1.000000     0.000000     2.000000     0.000000  \n",
       "50%       1.000000     0.000000     2.000000     1.000000  \n",
       "75%       2.000000     1.000000     3.000000     1.000000  \n",
       "max       2.000000     4.000000     3.000000     1.000000  "
      ]
     },
     "execution_count": 2,
     "metadata": {},
     "output_type": "execute_result"
    }
   ],
   "source": [
    "df_heart = pd.read_csv('./datasets/heart.csv')\n",
    "\n",
    "X = df_heart.drop(['target'], axis=1)\n",
    "y = df_heart['target']\n",
    "\n",
    "X_train, X_test, y_train, y_test = train_test_split(X, y,\n",
    "                                                    test_size=0.3)\n",
    "df_heart.describe()\n",
    "                                                "
   ]
  },
  {
   "cell_type": "markdown",
   "metadata": {},
   "source": [
    "## usando bagging a un solo modelo\n",
    "- implementaremos un clasificador no tan bueno para este ejercicio, el cual es KNeighborsClassifier() y veremos su accuracy.\n",
    "comararemos KNN solo y 50 KNN  usando bagging \n",
    "- primero evaluaraemos el modelo KNN solo\n",
    "- segundo: evaluaremos 50 modelos KNN y obtendremos su consenso usando bagging "
   ]
  },
  {
   "cell_type": "code",
   "execution_count": 4,
   "metadata": {},
   "outputs": [
    {
     "name": "stdout",
     "output_type": "stream",
     "text": [
      "Accuracy with only KNeighborsClassifier: 0.7207792207792207\n",
      "================================================================\n",
      "Accuracy of avarage of 50 KNeighborsClassifier (using bagging): 0.762987012987013\n"
     ]
    }
   ],
   "source": [
    "knn_class = KNeighborsClassifier().fit(X_train, y_train)\n",
    "knn_pred = knn_class.predict(X_test)\n",
    "print('Accuracy with only KNeighborsClassifier:', accuracy_score(knn_pred, y_test))\n",
    "print('='*64)\n",
    "\n",
    "\n",
    "bag_class = BaggingClassifier(base_estimator=KNeighborsClassifier(),\n",
    "                            n_estimators=50).fit(X_train, y_train)\n",
    "bag_pred = bag_class.predict(X_test)\n",
    "print('Accuracy of avarage of 50 KNeighborsClassifier (using bagging):', accuracy_score(bag_pred, y_test))\n"
   ]
  },
  {
   "cell_type": "markdown",
   "metadata": {},
   "source": [
    "podemos ver como usando un modelo de clasificacion debil si la aplicamosbagging podemos mejorarlo.  "
   ]
  },
  {
   "cell_type": "markdown",
   "metadata": {},
   "source": [
    "## bagging con diferentes modelos\n",
    "ahora realizaremos lo mismo de atras pero con todos los calsificadores de sklearn "
   ]
  },
  {
   "cell_type": "code",
   "execution_count": 12,
   "metadata": {},
   "outputs": [],
   "source": [
    "\n",
    "classifiers = {\n",
    "    'KNeighbors': KNeighborsClassifier(),\n",
    "    'LogisticRegression' : LogisticRegression(),\n",
    "    'LinearSCV': LinearSVC(),\n",
    "    'SVC': SVC(),\n",
    "    'SGDC': SGDClassifier(),\n",
    "    'DecisionTree': DecisionTreeClassifier(),\n",
    "    'RandomTreeForest' : RandomForestClassifier(random_state=0)\n",
    "}"
   ]
  },
  {
   "cell_type": "markdown",
   "metadata": {},
   "source": [
    "## uso de metricas para clasificacion \n",
    "siempre es importante saber que tipo de metrica debemos usar segun nuestro problema planteado. en este caso usaremoslas siguientes metricas :\n",
    "- model score\n",
    "- cross validation \n",
    "- classification_report: muestra falsos negativos, postivos y mas"
   ]
  },
  {
   "cell_type": "code",
   "execution_count": 15,
   "metadata": {},
   "outputs": [
    {
     "name": "stdout",
     "output_type": "stream",
     "text": [
      "================================================================\n",
      "Metrica del modelo KNeighbors: 0.88285\n",
      "Metricas cross_validation KNeighbors: [0.72916667 0.76388889 0.75524476 0.76923077 0.72727273]\n",
      "Media de cross_validation KNeighbors: 0.74896\n",
      "Metrica en Test KNeighbors: 0.75\n",
      "================================================================\n",
      "Metrica del modelo LogisticRegression: 0.86332\n",
      "Metricas cross_validation LogisticRegression: [0.82638889 0.90277778 0.88111888 0.82517483 0.83216783]\n",
      "Media de cross_validation LogisticRegression: 0.85353\n",
      "Metrica en Test LogisticRegression: 0.81818\n",
      "================================================================\n",
      "Metrica del modelo LinearSCV: 0.85635\n",
      "Metricas cross_validation LinearSCV: [0.82638889 0.875      0.86013986 0.82517483 0.82517483]\n",
      "Media de cross_validation LinearSCV: 0.84238\n",
      "Metrica en Test LinearSCV: 0.81818\n",
      "================================================================\n",
      "Metrica del modelo SVC: 0.72106\n",
      "Metricas cross_validation SVC: [0.72222222 0.75694444 0.6993007  0.6993007  0.64335664]\n",
      "Media de cross_validation SVC: 0.70422\n",
      "Metrica en Test SVC: 0.66883\n",
      "================================================================\n",
      "Metrica del modelo SGDC: 0.72803\n",
      "Metricas cross_validation SGDC: [0.69444444 0.77777778 0.74125874 0.72027972 0.67132867]\n",
      "Media de cross_validation SGDC: 0.72102\n",
      "Metrica en Test SGDC: 0.68182\n",
      "================================================================\n",
      "Metrica del modelo DecisionTree: 1.0\n",
      "Metricas cross_validation DecisionTree: [0.94444444 0.97222222 0.97202797 0.90909091 0.96503497]\n",
      "Media de cross_validation DecisionTree: 0.95256\n",
      "Metrica en Test DecisionTree: 0.99026\n",
      "================================================================\n",
      "Metrica del modelo RandomTreeForest: 1.0\n",
      "Metricas cross_validation RandomTreeForest: [0.93055556 0.96527778 0.95104895 0.97202797 0.95804196]\n",
      "Media de cross_validation RandomTreeForest: 0.95539\n",
      "Metrica en Test RandomTreeForest: 0.99026\n"
     ]
    }
   ],
   "source": [
    "from sklearn.model_selection import cross_val_score\n",
    "from sklearn.model_selection import KFold\n",
    "from sklearn import metrics\n",
    "\n",
    "kf = KFold(n_splits=5)\n",
    "\n",
    "\n",
    "for name, estimator in classifiers.items():\n",
    "    bag_class = BaggingClassifier(base_estimator=estimator,\n",
    "                                    n_estimators=30).fit(X_train, y_train) # 30 modelos utilizaremos \n",
    "    \n",
    "    score = bag_class.score(X_train,y_train)\n",
    "    print('='*64)\n",
    "    print(f\"Metrica del modelo {name}: {round(score, 5)}\")\n",
    "\n",
    "    scores = cross_val_score(bag_class, X_train, y_train, cv=kf, scoring=\"accuracy\")\n",
    "\n",
    "    print(f\"Metricas cross_validation {name}: {scores}\")\n",
    "\n",
    "    print(f\"Media de cross_validation {name}: {round(scores.mean(), 5)}\")\n",
    "\n",
    "    preds = bag_class.predict(X_test)\n",
    "\n",
    "    score_pred = metrics.accuracy_score(y_test, preds)\n",
    "\n",
    "    print(f\"Metrica en Test {name}: {round(score_pred, 5)}\")\n",
    "    \n",
    "    \n",
    "    \"\"\"\n",
    "    bag_pred = bag_class.predict(X_test)\n",
    "\n",
    "    # using different kind of metrics of evaluation \n",
    "    print(f'Accuracy Bagging with {name}:', accuracy_score(bag_pred, y_test))\"\"\""
   ]
  },
  {
   "cell_type": "markdown",
   "metadata": {},
   "source": [
    "## reporte de clasificacion \n",
    "ya que estamos trabajando con diagnostico medico es importante saber cuantos falsos negativos y falsos postivos tuvimos.\n",
    " Las columnas corresponden a las etiquetas predichas y las filas a las etiquetas verdaderas."
   ]
  },
  {
   "cell_type": "code",
   "execution_count": 18,
   "metadata": {},
   "outputs": [
    {
     "name": "stdout",
     "output_type": "stream",
     "text": [
      "              precision    recall  f1-score   support\n",
      "\n",
      "           0       0.98      1.00      0.99       145\n",
      "           1       1.00      0.98      0.99       163\n",
      "\n",
      "    accuracy                           0.99       308\n",
      "   macro avg       0.99      0.99      0.99       308\n",
      "weighted avg       0.99      0.99      0.99       308\n",
      "\n"
     ]
    }
   ],
   "source": [
    "print(metrics.classification_report(y_test, preds))"
   ]
  },
  {
   "cell_type": "code",
   "execution_count": 32,
   "metadata": {},
   "outputs": [
    {
     "data": {
      "image/png": "[encoded data removed]",
      "text/plain": [
       "<Figure size 432x288 with 2 Axes>"
      ]
     },
     "metadata": {
      "needs_background": "light"
     },
     "output_type": "display_data"
    }
   ],
   "source": [
    "import matplotlib.pyplot as plt\n",
    "import numpy as np \n",
    "import seaborn as sns \n",
    "cnf_matrix= metrics.confusion_matrix(y_test, preds)\n",
    "\n",
    "class_names = [0,1]\n",
    "fig, ax = plt.subplots()\n",
    "tick_marks = np.arange(len(class_names))\n",
    "plt.xticks(tick_marks, class_names)\n",
    "plt.yticks(tick_marks, class_names)\n",
    "\n",
    "sns.heatmap(pd.DataFrame(cnf_matrix), annot = True, cmap=\"Blues_r\", fmt=\"g\")\n",
    "ax.xaxis.set_label_position(\"top\")\n",
    "plt.tight_layout()\n",
    "plt.title(\"Matriz de confusion\", y=1.1)\n",
    "plt.ylabel(\"Y real\")\n",
    "plt.xlabel(\"Y de prediccion\")\n",
    "plt.show()\n",
    "\n",
    "# puedes corroborar los ejes usando:\n",
    "#print(y_test.value_counts())"
   ]
  },
  {
   "cell_type": "markdown",
   "metadata": {},
   "source": [
    "tenemos:\n",
    "- 0: falsos negativos \n",
    "- 3: falso positivo = 3 personas que tenian problemas cardiacos, el modelo predijo que no tenian.\n"
   ]
  },
  {
   "cell_type": "markdown",
   "metadata": {},
   "source": [
    "## comparamos el desempeño de los modelos sin bagging \n",
    "en este caso no se aplicar bagging simplemente sera el modelo\n"
   ]
  },
  {
   "cell_type": "code",
   "execution_count": 14,
   "metadata": {},
   "outputs": [
    {
     "name": "stdout",
     "output_type": "stream",
     "text": [
      "================================================================\n",
      "Metrica del modelo KNeighbors: 0.87308\n",
      "Metricas cross_validation KNeighbors: [0.71527778 0.75       0.74125874 0.75524476 0.6993007 ]\n",
      "Media de cross_validation KNeighbors: 0.73222\n",
      "Metrica en Test KNeighbors: 0.72078\n",
      "================================================================\n",
      "Metrica del modelo LogisticRegression: 0.86471\n",
      "Metricas cross_validation LogisticRegression: [0.81944444 0.90277778 0.86013986 0.82517483 0.8041958 ]\n",
      "Media de cross_validation LogisticRegression: 0.84235\n",
      "Metrica en Test LogisticRegression: 0.83117\n",
      "================================================================\n",
      "Metrica del modelo LinearSCV: 0.7894\n",
      "Metricas cross_validation LinearSCV: [0.70833333 0.61111111 0.6993007  0.75524476 0.70629371]\n",
      "Media de cross_validation LinearSCV: 0.69606\n",
      "Metrica en Test LinearSCV: 0.75\n",
      "================================================================\n",
      "Metrica del modelo SVC: 0.7113\n",
      "Metricas cross_validation SVC: [0.70138889 0.75694444 0.6993007  0.6993007  0.65034965]\n",
      "Media de cross_validation SVC: 0.70146\n",
      "Metrica en Test SVC: 0.65909\n",
      "================================================================\n",
      "Metrica del modelo SGDC: 0.51325\n",
      "Metricas cross_validation SGDC: [0.76388889 0.80555556 0.74825175 0.70629371 0.70629371]\n",
      "Media de cross_validation SGDC: 0.74606\n",
      "Metrica en Test SGDC: 0.50325\n",
      "================================================================\n",
      "Metrica del modelo DecisionTree: 1.0\n",
      "Metricas cross_validation DecisionTree: [0.95138889 0.96527778 0.98601399 0.91608392 1.        ]\n",
      "Media de cross_validation DecisionTree: 0.96375\n",
      "Metrica en Test DecisionTree: 0.96753\n",
      "================================================================\n",
      "Metrica del modelo RandomTreeForest: 1.0\n",
      "Metricas cross_validation RandomTreeForest: [0.9375     0.97916667 0.97902098 0.97902098 0.96503497]\n",
      "Media de cross_validation RandomTreeForest: 0.96795\n",
      "Metrica en Test RandomTreeForest: 0.99026\n"
     ]
    }
   ],
   "source": [
    "for name, estimator in classifiers.items():\n",
    "    estimator.fit(X_train, y_train)\n",
    "    score = estimator.score(X_train,y_train)\n",
    "    print('='*64)\n",
    "    print(f\"Metrica del modelo {name}: {round(score, 5)}\")\n",
    "\n",
    "    scores = cross_val_score(estimator, X_train, y_train, cv=kf, scoring=\"accuracy\")\n",
    "\n",
    "    print(f\"Metricas cross_validation {name}: {scores}\")\n",
    "\n",
    "    print(f\"Media de cross_validation {name}: {round(scores.mean(), 5)}\")\n",
    "\n",
    "    preds = estimator.predict(X_test)\n",
    "\n",
    "    score_pred = metrics.accuracy_score(y_test, preds)\n",
    "\n",
    "    print(f\"Metrica en Test {name}: {round(score_pred, 5)}\")"
   ]
  },
  {
   "cell_type": "markdown",
   "metadata": {},
   "source": [
    "## concluciones \n",
    "podemos ver como en la mayoria de los casos usar bagging aumenta el rendimiento de nuestro modelo. \n",
    "el modelo RandomTreeForest a demostrado ser el mejor clasificador en todos los casos"
   ]
  },
  {
   "cell_type": "markdown",
   "metadata": {},
   "source": [
    "# 2 boosting\n",
    "Implementaremos [GradientBoostingClassifier](https://en.wikipedia.org/wiki/Gradient_boosting) un algoritmo boosting basado en arboles de decisión. Podemos encontrar mas información en la [documentación oficial de Scikit Learn](https://scikit-learn.org/stable/modules/ensemble.html#gradient-tree-boosting)\n",
    "\n",
    "Hicimos la implementación con 50 estimadores y obtuvimos lo siguiente:\n",
    "- este modelo utiliza arboles de decision de fondo, creara arboles con muy poca profundidady pocas hojas y los entrenara y detras de otro. "
   ]
  },
  {
   "cell_type": "code",
   "execution_count": 33,
   "metadata": {},
   "outputs": [],
   "source": [
    "from sklearn.ensemble import GradientBoostingClassifier"
   ]
  },
  {
   "cell_type": "code",
   "execution_count": 34,
   "metadata": {},
   "outputs": [
    {
     "name": "stdout",
     "output_type": "stream",
     "text": [
      "================================================================\n",
      "GradientBoostingClassifier accuracy : 0.922077922077922\n"
     ]
    }
   ],
   "source": [
    "# Con cross validation podemos optimizar la cantidad de estimadores que deberiamos utilizar\n",
    "boost = GradientBoostingClassifier(n_estimators=50).fit(X_train, y_train) # 50 arboles utilizaremos\n",
    "boost_pred = boost.predict(X_test)\n",
    "print('='*64)\n",
    "print('GradientBoostingClassifier accuracy :', accuracy_score(boost_pred, y_test))\n",
    "\n"
   ]
  },
  {
   "cell_type": "code",
   "execution_count": 40,
   "metadata": {},
   "outputs": [
    {
     "data": {
      "image/png": "[encoded data removed]",
      "text/plain": [
       "<Figure size 432x288 with 1 Axes>"
      ]
     },
     "metadata": {
      "needs_background": "light"
     },
     "output_type": "display_data"
    },
    {
     "name": "stdout",
     "output_type": "stream",
     "text": [
      "best_est_num:  150\n"
     ]
    }
   ],
   "source": [
    "# Graficando\n",
    "estimators = range(10, 200, 10)\n",
    "total_accuracy = {}\n",
    "for i in estimators:\n",
    "    boost = GradientBoostingClassifier(n_estimators=i).fit(X_train, y_train)\n",
    "    boost_pred = boost.predict(X_test)\n",
    "\n",
    "    total_accuracy[i] = accuracy_score(y_test, boost_pred)\n",
    "\n",
    "plt.plot(estimators, total_accuracy.values())\n",
    "plt.xlabel('Estimators')\n",
    "plt.ylabel('Accuracy')\n",
    "plt.title('GradientBoostingClassifier accuracies in function of estimators')\n",
    "plt.show()\n",
    "\n",
    "max_accu = np.array(list(total_accuracy.values())).max()\n",
    "best_est_num = {k: v for k, v in total_accuracy.items()\n",
    "                if v == max_accu}\n",
    "best_est_num = list(best_est_num)\n",
    "print(\"best_est_num: \", best_est_num[0])"
   ]
  },
  {
   "cell_type": "code",
   "execution_count": 42,
   "metadata": {},
   "outputs": [
    {
     "name": "stdout",
     "output_type": "stream",
     "text": [
      "0.9902597402597403\n"
     ]
    }
   ],
   "source": [
    "# sin necesidad de aumentar mucho los estimadores podemos modificar otros parametros\n",
    "boosting = GradientBoostingClassifier(loss='exponential',\n",
    "learning_rate=0.15, \n",
    "n_estimators=100, \n",
    "max_depth=5).fit(X_train, y_train)\n",
    "boost_pred = boost.predict(X_test)\n",
    "print(accuracy_score(y_test, boost_pred))"
   ]
  },
  {
   "cell_type": "markdown",
   "metadata": {},
   "source": []
  },
  {
   "cell_type": "code",
   "execution_count": null,
   "metadata": {},
   "outputs": [],
   "source": []
  },
  {
   "cell_type": "markdown",
   "metadata": {},
   "source": []
  }
 ],
 "metadata": {
  "kernelspec": {
   "display_name": "Python 3.9.12 ('base')",
   "language": "python",
   "name": "python3"
  },
  "language_info": {
   "codemirror_mode": {
    "name": "ipython",
    "version": 3
   },
   "file_extension": ".py",
   "mimetype": "text/x-python",
   "name": "python",
   "nbconvert_exporter": "python",
   "pygments_lexer": "ipython3",
   "version": "3.9.12"
  },
  "orig_nbformat": 4,
  "vscode": {
   "interpreter": {
    "hash": "89700b826ea957244dd80a5eea6853c4d4fde16e09f6b962977bd16c6aae5fc9"
   }
  }
 },
 "nbformat": 4,
 "nbformat_minor": 2
}
